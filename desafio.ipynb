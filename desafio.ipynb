{
 "cells": [
  {
   "cell_type": "markdown",
   "metadata": {},
   "source": [
    "primeira questão"
   ]
  },
  {
   "cell_type": "code",
   "execution_count": null,
   "metadata": {},
   "outputs": [],
   "source": [
    "indice = 13 \n",
    "soma = 0 \n",
    "k = 0 \n",
    "\n",
    "while k < indice:\n",
    "  k = k + 1\n",
    "  soma = soma + k\n",
    "\n",
    "print(soma)"
   ]
  },
  {
   "cell_type": "markdown",
   "metadata": {},
   "source": [
    "segunda questão"
   ]
  },
  {
   "cell_type": "code",
   "execution_count": 1,
   "metadata": {},
   "outputs": [
    {
     "name": "stdout",
     "output_type": "stream",
     "text": [
      "O número NÃO pertence a sequencia de fibbonaci.\n"
     ]
    }
   ],
   "source": [
    "def pergunta():\n",
    "  num_existe = int(input(\"Digite um numero que deseja saber se está na sequencia de fibonnaci \\n\"))\n",
    "  if num_existe < 0:\n",
    "    print(\"número precisa ser um inteiro positivo\")\n",
    "  return num_existe\n",
    "\n",
    "def fibonnaci(num):\n",
    "  res = []\n",
    "  prev, curr = 0,1\n",
    "\n",
    "  for i in range(num):\n",
    "    res.append(curr)\n",
    "    curr, prev = curr + prev, curr \n",
    "\n",
    "  return res\n",
    "\n",
    "def verifica():\n",
    "  var = pergunta()\n",
    "  if var == 2 or var == 3:\n",
    "    print(\"O número pertence a sequencia de fibbonaci.\")\n",
    "    return var\n",
    "  fib = fibonnaci(var)\n",
    "  for i in (fib):\n",
    "    if var == i:\n",
    "      print(\"O número pertence a sequencia de fibbonaci.\")\n",
    "      return fib\n",
    "    \n",
    "  else:\n",
    "    print(\"O número NÃO pertence a sequencia de fibbonaci.\")\n",
    "\n",
    "verifica()"
   ]
  },
  {
   "cell_type": "markdown",
   "metadata": {},
   "source": [
    "terceira questão"
   ]
  },
  {
   "cell_type": "markdown",
   "metadata": {},
   "source": [
    "a) 11 \n",
    "b) 128\n",
    "c) 49\n",
    "d) 100  \n",
    "e) 13\n",
    "f) 200"
   ]
  },
  {
   "cell_type": "markdown",
   "metadata": {},
   "source": [
    "quarta questão"
   ]
  },
  {
   "cell_type": "markdown",
   "metadata": {},
   "source": [
    "Ligo o primeiro interruptor e espero alguns minutos, desligo esse interruptor e ligo o segundo e depois vou para a sala das lâmpadas. Se uma lampada tiver acesa, significa que o segundo interruptor controla aquela lampada. Se uma lâmpada estiver desligada e frio ao toque, o terceiro interruptor controla essa lampada. E se outra lâmpada estiver quente ao toque, o primeiro interruptor controla essa lâmpada. "
   ]
  },
  {
   "cell_type": "markdown",
   "metadata": {},
   "source": [
    "quinta questão"
   ]
  },
  {
   "cell_type": "code",
   "execution_count": 8,
   "metadata": {},
   "outputs": [
    {
     "name": "stdout",
     "output_type": "stream",
     "text": [
      "Original:  pedro \n",
      "Invertida:  ordep\n"
     ]
    }
   ],
   "source": [
    "def inverter(string):\n",
    "  return string[::-1]\n",
    "\n",
    "original = input(\"Digite a string que deseja ser invertida: \")\n",
    "invertida = inverter(original)\n",
    "print(\"Original: \", original, \"\\n\" \"Invertida: \", invertida)"
   ]
  }
 ],
 "metadata": {
  "kernelspec": {
   "display_name": "Python 3",
   "language": "python",
   "name": "python3"
  },
  "language_info": {
   "codemirror_mode": {
    "name": "ipython",
    "version": 3
   },
   "file_extension": ".py",
   "mimetype": "text/x-python",
   "name": "python",
   "nbconvert_exporter": "python",
   "pygments_lexer": "ipython3",
   "version": "3.12.1"
  }
 },
 "nbformat": 4,
 "nbformat_minor": 2
}
